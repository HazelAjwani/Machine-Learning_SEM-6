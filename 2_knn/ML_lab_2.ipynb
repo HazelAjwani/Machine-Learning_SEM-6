{
  "nbformat": 4,
  "nbformat_minor": 0,
  "metadata": {
    "colab": {
      "provenance": []
    },
    "kernelspec": {
      "name": "python3",
      "display_name": "Python 3"
    },
    "language_info": {
      "name": "python"
    }
  },
  "cells": [
    {
      "cell_type": "markdown",
      "source": [
        "Install required ibraries"
      ],
      "metadata": {
        "id": "UhdHsLJMCA-r"
      }
    },
    {
      "cell_type": "code",
      "execution_count": 3,
      "metadata": {
        "colab": {
          "base_uri": "https://localhost:8080/"
        },
        "id": "r1UFhjS9A2EY",
        "outputId": "e37595a5-05c8-478c-8be9-21dd84e48e8b"
      },
      "outputs": [
        {
          "output_type": "stream",
          "name": "stdout",
          "text": [
            "Requirement already satisfied: numpy in /usr/local/lib/python3.11/dist-packages (1.26.4)\n",
            "Requirement already satisfied: pandas in /usr/local/lib/python3.11/dist-packages (2.2.2)\n",
            "Requirement already satisfied: scikit-learn in /usr/local/lib/python3.11/dist-packages (1.6.1)\n",
            "Requirement already satisfied: matplotlib in /usr/local/lib/python3.11/dist-packages (3.10.0)\n",
            "Requirement already satisfied: python-dateutil>=2.8.2 in /usr/local/lib/python3.11/dist-packages (from pandas) (2.8.2)\n",
            "Requirement already satisfied: pytz>=2020.1 in /usr/local/lib/python3.11/dist-packages (from pandas) (2024.2)\n",
            "Requirement already satisfied: tzdata>=2022.7 in /usr/local/lib/python3.11/dist-packages (from pandas) (2025.1)\n",
            "Requirement already satisfied: scipy>=1.6.0 in /usr/local/lib/python3.11/dist-packages (from scikit-learn) (1.13.1)\n",
            "Requirement already satisfied: joblib>=1.2.0 in /usr/local/lib/python3.11/dist-packages (from scikit-learn) (1.4.2)\n",
            "Requirement already satisfied: threadpoolctl>=3.1.0 in /usr/local/lib/python3.11/dist-packages (from scikit-learn) (3.5.0)\n",
            "Requirement already satisfied: contourpy>=1.0.1 in /usr/local/lib/python3.11/dist-packages (from matplotlib) (1.3.1)\n",
            "Requirement already satisfied: cycler>=0.10 in /usr/local/lib/python3.11/dist-packages (from matplotlib) (0.12.1)\n",
            "Requirement already satisfied: fonttools>=4.22.0 in /usr/local/lib/python3.11/dist-packages (from matplotlib) (4.55.7)\n",
            "Requirement already satisfied: kiwisolver>=1.3.1 in /usr/local/lib/python3.11/dist-packages (from matplotlib) (1.4.8)\n",
            "Requirement already satisfied: packaging>=20.0 in /usr/local/lib/python3.11/dist-packages (from matplotlib) (24.2)\n",
            "Requirement already satisfied: pillow>=8 in /usr/local/lib/python3.11/dist-packages (from matplotlib) (11.1.0)\n",
            "Requirement already satisfied: pyparsing>=2.3.1 in /usr/local/lib/python3.11/dist-packages (from matplotlib) (3.2.1)\n",
            "Requirement already satisfied: six>=1.5 in /usr/local/lib/python3.11/dist-packages (from python-dateutil>=2.8.2->pandas) (1.17.0)\n"
          ]
        }
      ],
      "source": [
        "!pip install numpy pandas scikit-learn matplotlib"
      ]
    },
    {
      "cell_type": "markdown",
      "source": [
        "Importing required libraries"
      ],
      "metadata": {
        "id": "lPsGG6mwEC_Z"
      }
    },
    {
      "cell_type": "code",
      "source": [
        "import numpy as np\n",
        "import pandas as pd\n",
        "import matplotlib.pyplot as plt\n",
        "from sklearn.model_selection import train_test_split\n",
        "from sklearn.neighbors import KNeighborsClassifier\n",
        "from sklearn.metrics import accuracy_score, classification_report, confusion_matrix"
      ],
      "metadata": {
        "id": "q9oDXAuCB6c-"
      },
      "execution_count": 4,
      "outputs": []
    },
    {
      "cell_type": "markdown",
      "source": [
        "Load the dataset"
      ],
      "metadata": {
        "id": "8oZnVo2SEGmo"
      }
    },
    {
      "cell_type": "code",
      "source": [
        "import pandas as pd\n",
        "\n",
        "# Load the dataset\n",
        "df = pd.read_csv('Iris.csv')"
      ],
      "metadata": {
        "id": "EYnInwgkB93z"
      },
      "execution_count": 6,
      "outputs": []
    },
    {
      "cell_type": "markdown",
      "source": [
        "Display the dataset"
      ],
      "metadata": {
        "id": "w0Bc0OQGEI_U"
      }
    },
    {
      "cell_type": "code",
      "source": [
        "print(df.head())\n",
        "print(df.info())"
      ],
      "metadata": {
        "colab": {
          "base_uri": "https://localhost:8080/"
        },
        "id": "atuwoUSCD1q9",
        "outputId": "79599ded-37eb-40f1-d131-96019d5996b3"
      },
      "execution_count": 7,
      "outputs": [
        {
          "output_type": "stream",
          "name": "stdout",
          "text": [
            "   Id  SepalLengthCm  SepalWidthCm  PetalLengthCm  PetalWidthCm      Species\n",
            "0   1            5.1           3.5            1.4           0.2  Iris-setosa\n",
            "1   2            4.9           3.0            1.4           0.2  Iris-setosa\n",
            "2   3            4.7           3.2            1.3           0.2  Iris-setosa\n",
            "3   4            4.6           3.1            1.5           0.2  Iris-setosa\n",
            "4   5            5.0           3.6            1.4           0.2  Iris-setosa\n",
            "<class 'pandas.core.frame.DataFrame'>\n",
            "RangeIndex: 150 entries, 0 to 149\n",
            "Data columns (total 6 columns):\n",
            " #   Column         Non-Null Count  Dtype  \n",
            "---  ------         --------------  -----  \n",
            " 0   Id             150 non-null    int64  \n",
            " 1   SepalLengthCm  150 non-null    float64\n",
            " 2   SepalWidthCm   150 non-null    float64\n",
            " 3   PetalLengthCm  150 non-null    float64\n",
            " 4   PetalWidthCm   150 non-null    float64\n",
            " 5   Species        150 non-null    object \n",
            "dtypes: float64(4), int64(1), object(1)\n",
            "memory usage: 7.2+ KB\n",
            "None\n"
          ]
        }
      ]
    },
    {
      "cell_type": "markdown",
      "source": [
        "Preprocessing the data"
      ],
      "metadata": {
        "id": "p_W5YpTtHZmV"
      }
    },
    {
      "cell_type": "code",
      "source": [
        "from sklearn.preprocessing import LabelEncoder\n",
        "\n",
        "# Initialize LabelEncoder\n",
        "label_encoder = LabelEncoder()\n",
        "\n",
        "# Convert species column to numeric labels\n",
        "df['Species'] = label_encoder.fit_transform(df['Species'])\n",
        "\n",
        "# Check the updated DataFrame\n",
        "print(df.head())\n",
        "print(df.tail())"
      ],
      "metadata": {
        "colab": {
          "base_uri": "https://localhost:8080/"
        },
        "id": "w8e2A6J1HcBq",
        "outputId": "73cbba4e-c15b-4133-cc4a-0fd391aeaf0c"
      },
      "execution_count": 11,
      "outputs": [
        {
          "output_type": "stream",
          "name": "stdout",
          "text": [
            "   Id  SepalLengthCm  SepalWidthCm  PetalLengthCm  PetalWidthCm  Species\n",
            "0   1            5.1           3.5            1.4           0.2        0\n",
            "1   2            4.9           3.0            1.4           0.2        0\n",
            "2   3            4.7           3.2            1.3           0.2        0\n",
            "3   4            4.6           3.1            1.5           0.2        0\n",
            "4   5            5.0           3.6            1.4           0.2        0\n",
            "      Id  SepalLengthCm  SepalWidthCm  PetalLengthCm  PetalWidthCm  Species\n",
            "145  146            6.7           3.0            5.2           2.3        2\n",
            "146  147            6.3           2.5            5.0           1.9        2\n",
            "147  148            6.5           3.0            5.2           2.0        2\n",
            "148  149            6.2           3.4            5.4           2.3        2\n",
            "149  150            5.9           3.0            5.1           1.8        2\n"
          ]
        }
      ]
    },
    {
      "cell_type": "markdown",
      "source": [
        "Define features\n"
      ],
      "metadata": {
        "id": "gQpGB7dHJ4TH"
      }
    },
    {
      "cell_type": "code",
      "source": [
        "# Features (all columns except 'species')\n",
        "X = df.drop('Species', axis=1).values\n",
        "\n",
        "# Labels (species column)\n",
        "y = df['Species'].values"
      ],
      "metadata": {
        "id": "zW3OS7cxJ6lY"
      },
      "execution_count": 15,
      "outputs": []
    },
    {
      "cell_type": "markdown",
      "source": [
        "Splitting into Training and Testing Sets"
      ],
      "metadata": {
        "id": "djGg-zOrHp6R"
      }
    },
    {
      "cell_type": "code",
      "source": [
        "from sklearn.model_selection import train_test_split\n",
        "\n",
        "# Split the data into 80% training and 20% testing\n",
        "X_train, X_test, y_train, y_test = train_test_split(X, y, test_size=0.2, random_state=42)\n",
        "\n",
        "# Check the size of the training and testing datasets\n",
        "print(f\"Training set size: {len(X_train)}\")\n",
        "print(f\"Testing set size: {len(X_test)}\")"
      ],
      "metadata": {
        "colab": {
          "base_uri": "https://localhost:8080/"
        },
        "id": "YFB1FzBgHeTw",
        "outputId": "37f85690-4d86-4301-84d8-47e525a63778"
      },
      "execution_count": 16,
      "outputs": [
        {
          "output_type": "stream",
          "name": "stdout",
          "text": [
            "Training set size: 120\n",
            "Testing set size: 30\n"
          ]
        }
      ]
    },
    {
      "cell_type": "markdown",
      "source": [
        "Implementation of knn algorithm"
      ],
      "metadata": {
        "id": "Qxvnr-ShKGpN"
      }
    },
    {
      "cell_type": "markdown",
      "source": [
        "euclidean distance"
      ],
      "metadata": {
        "id": "dpIzWjmjKJVk"
      }
    },
    {
      "cell_type": "code",
      "source": [
        "import numpy as np\n",
        "\n",
        "# Function to calculate Euclidean distance\n",
        "def euclidean_distance(x1, x2):\n",
        "    return np.sqrt(np.sum((x1 - x2) ** 2))"
      ],
      "metadata": {
        "id": "DnqST001JtCC"
      },
      "execution_count": 17,
      "outputs": []
    },
    {
      "cell_type": "markdown",
      "source": [
        "knn classifier"
      ],
      "metadata": {
        "id": "lDpxSxUoKOpR"
      }
    },
    {
      "cell_type": "code",
      "source": [
        "class KNN:\n",
        "    def __init__(self, k=3):\n",
        "        self.k = k  # Number of neighbors to consider\n",
        "\n",
        "    def fit(self, X_train, y_train):\n",
        "        self.X_train = X_train  # Store the training data\n",
        "        self.y_train = y_train  # Store the labels\n",
        "\n",
        "    def predict(self, X_test):\n",
        "        predictions = [self._predict(x) for x in X_test]\n",
        "        return np.array(predictions)\n",
        "\n",
        "    def _predict(self, x):\n",
        "        # Calculate distances between x (test point) and all training points\n",
        "        distances = [euclidean_distance(x, x_train) for x_train in self.X_train]\n",
        "\n",
        "        # Get the indices of the k smallest distances\n",
        "        k_indices = np.argsort(distances)[:self.k]\n",
        "\n",
        "        # Get the labels of the k nearest neighbors\n",
        "        k_nearest_labels = [self.y_train[i] for i in k_indices]\n",
        "\n",
        "        # Majority vote: Find the most common label among the neighbors\n",
        "        most_common = Counter(k_nearest_labels).most_common(1)\n",
        "        return most_common[0][0]\n"
      ],
      "metadata": {
        "id": "tIlHrinvKLxl"
      },
      "execution_count": 18,
      "outputs": []
    },
    {
      "cell_type": "markdown",
      "source": [
        "train and test model"
      ],
      "metadata": {
        "id": "pY1-vJTEKUjp"
      }
    },
    {
      "cell_type": "code",
      "source": [
        "from collections import Counter\n",
        "\n",
        "# Initialize KNN with k=3\n",
        "knn = KNN(k=3)\n",
        "\n",
        "# Train the model on the training data\n",
        "knn.fit(X_train, y_train)\n",
        "\n",
        "# Make predictions on the test set\n",
        "predictions = knn.predict(X_test)\n",
        "\n",
        "# Print the predictions\n",
        "print(\"Predictions:\", predictions)"
      ],
      "metadata": {
        "colab": {
          "base_uri": "https://localhost:8080/"
        },
        "id": "ph_CCJtpKR5G",
        "outputId": "31127bb1-ba24-498b-d5a2-5cf63cdf300b"
      },
      "execution_count": 19,
      "outputs": [
        {
          "output_type": "stream",
          "name": "stdout",
          "text": [
            "Predictions: [1 0 2 1 1 0 1 2 1 1 2 0 0 0 0 1 2 1 1 2 0 2 0 2 2 2 2 2 0 0]\n"
          ]
        }
      ]
    },
    {
      "cell_type": "markdown",
      "source": [
        "evaluate the model"
      ],
      "metadata": {
        "id": "stibSHY8KZJt"
      }
    },
    {
      "cell_type": "code",
      "source": [
        "from sklearn.metrics import accuracy_score\n",
        "\n",
        "# Compare the predicted labels with actual labels\n",
        "accuracy = accuracy_score(y_test, predictions)\n",
        "print(f\"Accuracy: {accuracy * 100:.2f}%\")"
      ],
      "metadata": {
        "colab": {
          "base_uri": "https://localhost:8080/"
        },
        "id": "BtsFQl0jKXJd",
        "outputId": "9f104707-33eb-4d42-b8c9-5174f459067e"
      },
      "execution_count": 20,
      "outputs": [
        {
          "output_type": "stream",
          "name": "stdout",
          "text": [
            "Accuracy: 100.00%\n"
          ]
        }
      ]
    },
    {
      "cell_type": "code",
      "source": [
        "from sklearn.neighbors import KNeighborsClassifier\n",
        "\n",
        "# Initialize the KNN classifier from sklearn\n",
        "knn_sklearn = KNeighborsClassifier(n_neighbors=3)\n",
        "\n",
        "# Train the model on the training data\n",
        "knn_sklearn.fit(X_train, y_train)\n",
        "\n",
        "# Make predictions on the test set\n",
        "sklearn_predictions = knn_sklearn.predict(X_test)\n",
        "\n",
        "# Evaluate accuracy\n",
        "sklearn_accuracy = accuracy_score(y_test, sklearn_predictions)\n",
        "print(f\"Scikit-learn KNN Accuracy: {sklearn_accuracy * 100:.2f}%\")"
      ],
      "metadata": {
        "colab": {
          "base_uri": "https://localhost:8080/"
        },
        "id": "nIf1-nwrKbp9",
        "outputId": "24218477-9a46-45e5-d233-53566ecd86c4"
      },
      "execution_count": 21,
      "outputs": [
        {
          "output_type": "stream",
          "name": "stdout",
          "text": [
            "Scikit-learn KNN Accuracy: 100.00%\n"
          ]
        }
      ]
    }
  ]
}